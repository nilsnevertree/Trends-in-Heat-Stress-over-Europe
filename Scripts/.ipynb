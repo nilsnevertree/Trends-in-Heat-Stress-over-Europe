{
 "cells": [
  {
   "cell_type": "code",
   "execution_count": 1,
   "metadata": {},
   "outputs": [],
   "source": [
    "import xarray as xr\n",
    "import Calculation.trend_func as trends\n",
    "\n",
    "data = xr.open_dataset('/home/nniebaum/data_nils/europe_full_daymax_1900-01-01_2010-12-31.nc')\n",
    "cdo_ydrunpctl = xr.open_dataset('/data/user/nniebaum/europe_full_daymax_ydrunpctl9030_1900-01-01_2010-12-31.nc')"
   ]
  },
  {
   "cell_type": "code",
   "execution_count": 2,
   "metadata": {},
   "outputs": [
    {
     "data": {
      "text/plain": [
       "[<matplotlib.lines.Line2D at 0x7fc55e6c3250>]"
      ]
     },
     "execution_count": 2,
     "metadata": {},
     "output_type": "execute_result"
    },
    {
     "data": {
      "image/png": "[encoded data removed]",
      "text/plain": [
       "<Figure size 432x288 with 1 Axes>"
      ]
     },
     "metadata": {
      "needs_background": "light"
     },
     "output_type": "display_data"
    }
   ],
   "source": [
    "cdo_ydrunpctl.t2m.isel(latitude = 10, longitude = 20).plot()"
   ]
  },
  {
   "cell_type": "code",
   "execution_count": 3,
   "metadata": {},
   "outputs": [],
   "source": [
    "# calculate mask based on quantile for each gridpoint along dimsension time\n",
    "quantile = [0.9,0.95,0.98]\n",
    "data[\"t2m_mask_quantiles\"] = data[\"t2m\"] >= data[\"t2m\"].quantile(quantile, dim = \"time\")"
   ]
  },
  {
   "cell_type": "code",
   "execution_count": 4,
   "metadata": {},
   "outputs": [],
   "source": [
    "def calc_mask_ydrunpctl(data, cdo_data, variable = \"t2m\"):\n",
    "    \n",
    "    # get vector with corresponding months and days for the data\n",
    "    months_data = data.time.dt.month\n",
    "    days_data = data.time.dt.day\n",
    "    \n",
    "    # get vector with corresponding months and days for the cdo processed data\n",
    "    time_of = cdo_data.time\n",
    "    months_of = cdo_data.time.dt.month\n",
    "    days_of = cdo_data.time.dt.day\n",
    "\n",
    "    # create tuples with month and day for each timestep of the processed data\n",
    "    tuples = []\n",
    "    for of_step in time_of:\n",
    "        tuples.append((of_step.dt.month.values, of_step.dt.day.values))\n",
    "    \n",
    "    # result will save the mask ->> create an fully False mask \n",
    "    result = (data[variable] * 0).astype(bool)\n",
    "    for step in tuples:\n",
    "#         for each tuple get the mask for data and cdo_data\n",
    "        mask_data        = ((step[0] == months_data) & (step[1] == days_data))\n",
    "        mask_cdo_data    = ((step[0] == months_of)   & (step[1] == days_of))\n",
    "        # mask is the boolean array where the\n",
    "#         print('calc mask')\n",
    "        mask = data[variable].sel(time = mask_data).load() >= cdo_data[variable].sel(time = mask_cdo_data).values\n",
    "        if mask.values.sum() > 0:\n",
    "            result[mask_data] = result[mask_data]  + mask.values\n",
    "        else :\n",
    "            pass\n",
    "    \n",
    "    return result"
   ]
  },
  {
   "cell_type": "code",
   "execution_count": 5,
   "metadata": {},
   "outputs": [],
   "source": [
    "# calculate mask based on the 30 day running mean percentile data calculated by cdo ydrunpctl\n",
    "data['t2m_mask_ydrunpctl'] = data.t2m_mask_quantiles * 0\n",
    "\n",
    "idx = 0\n",
    "for quantile in data.t2m_mask_quantiles.coords['quantile'].values :\n",
    "    cdo_ydrunpctl = xr.open_dataset('/data/user/nniebaum/europe_full_daymax_ydrunpctl{:.0f}30_1900-01-01_2010-12-31.nc'.format(quantile*100))\n",
    "    data.t2m_mask_ydrunpctl[:,:,:,idx] = calc_mask_ydrunpctl(data, cdo_ydrunpctl, variable = \"t2m\")\n",
    "    idx += 1"
   ]
  },
  {
   "cell_type": "code",
   "execution_count": null,
   "metadata": {},
   "outputs": [],
   "source": [
    "# calculate mask based on the 30 day running mean percentile data calculated by cdo ydrunpctl\n",
    "data['t2m_mask_stddev'] = data.t2m_mask_quantiles * 0\n",
    "mean = xr.open_dataset('/data/user/nniebaum/europe_full_daymean_1900-01-01_2010-12-31.nc')\n",
    "stddev = xr.open_dataset('/data/user/nniebaum/europe_full_daystd_1900-01-01_2010-12-31.nc')\n",
    "# multiplication_stddev = [1.65,2,2.32]   \n",
    "# idx = 0\n",
    "# for quantile in data.t2m_mask_quantiles.coords['quantile'].values :\n",
    "    \n",
    "#     mean.t2m + multiplication_stddev[idx] * stddev.t2m\n",
    "\n",
    "mean.t2m + 2"
   ]
  },
  {
   "cell_type": "code",
   "execution_count": null,
   "metadata": {},
   "outputs": [],
   "source": [
    "data.t2m_mask_ydrunpctl.sum({'time','latitude', 'longitude'}).plot()\n",
    "data.t2m_mask_quantiles.sum({'time','latitude', 'longitude'}).plot()\n",
    "data.t2m_mask_stddev.sum({'time','latitude', 'longitude'}).plot()\n"
   ]
  },
  {
   "cell_type": "code",
   "execution_count": 61,
   "metadata": {},
   "outputs": [],
   "source": [
    "minf = xr.open_dataset('/home/nniebaum/data_nils/minfile')\n",
    "infile = xr.open_dataset('/home/nniebaum/data_nils/europe_all_1900-01-01_1930-12-31.nc')\n"
   ]
  },
  {
   "cell_type": "code",
   "execution_count": 7,
   "metadata": {},
   "outputs": [],
   "source": [
    "data.to_netcdf('/data/user/nniebaum/europe_full_daymax_masks_1900-01-01_2010-12-31.nc')"
   ]
  },
  {
   "cell_type": "code",
   "execution_count": 36,
   "metadata": {
    "collapsed": true,
    "jupyter": {
     "outputs_hidden": true
    }
   },
   "outputs": [
    {
     "name": "stdout",
     "output_type": "stream",
     "text": [
      "21579\n",
      "21482\n",
      "22661\n",
      "22776\n",
      "23768\n",
      "25088\n",
      "24592\n",
      "23548\n",
      "23668\n",
      "24580\n",
      "24698\n",
      "25109\n",
      "25588\n",
      "25033\n",
      "24167\n",
      "22804\n",
      "22725\n",
      "24121\n",
      "23908\n",
      "22089\n",
      "22744\n",
      "23272\n",
      "23962\n",
      "22720\n",
      "22451\n",
      "20976\n",
      "21066\n",
      "21646\n",
      "21387\n",
      "20540\n",
      "19709\n",
      "21490\n",
      "21719\n",
      "20764\n",
      "21444\n",
      "23125\n",
      "24595\n",
      "25471\n",
      "26701\n",
      "24220\n",
      "21813\n",
      "21689\n",
      "23584\n",
      "24014\n",
      "22745\n",
      "23633\n",
      "22455\n",
      "22569\n",
      "22348\n",
      "22016\n",
      "20420\n",
      "21332\n",
      "21347\n",
      "22340\n",
      "22210\n",
      "20502\n",
      "20536\n",
      "21102\n",
      "21201\n",
      "6720\n",
      "22992\n",
      "23157\n",
      "21841\n",
      "20928\n",
      "21584\n",
      "22206\n",
      "22133\n",
      "22491\n",
      "22452\n",
      "22730\n",
      "22918\n",
      "21540\n",
      "20968\n",
      "18761\n",
      "17800\n",
      "17236\n",
      "18243\n",
      "18988\n",
      "18601\n",
      "18864\n",
      "19498\n",
      "19666\n",
      "21408\n",
      "21125\n",
      "20725\n",
      "20117\n",
      "19639\n",
      "19400\n",
      "19290\n",
      "19568\n",
      "19894\n",
      "20317\n",
      "21017\n",
      "20838\n",
      "19997\n",
      "18919\n",
      "18189\n",
      "17866\n",
      "18384\n",
      "19822\n",
      "21339\n",
      "21395\n",
      "20309\n",
      "19340\n",
      "20653\n",
      "21452\n",
      "20424\n",
      "19288\n",
      "18385\n",
      "17995\n",
      "17779\n",
      "18985\n",
      "19789\n",
      "18695\n",
      "19823\n",
      "19281\n",
      "18593\n",
      "17533\n",
      "16309\n",
      "15936\n",
      "16870\n",
      "18092\n",
      "18491\n",
      "18929\n",
      "20037\n",
      "20496\n",
      "20019\n",
      "20003\n",
      "20355\n",
      "20068\n",
      "20434\n",
      "20353\n",
      "21140\n",
      "20366\n",
      "19395\n",
      "19267\n",
      "19532\n",
      "20644\n",
      "21174\n",
      "19742\n",
      "18907\n",
      "18994\n",
      "18150\n",
      "16619\n",
      "16848\n",
      "17135\n",
      "17205\n",
      "17517\n",
      "17319\n",
      "17939\n",
      "18195\n",
      "17678\n",
      "17641\n",
      "18978\n",
      "19037\n",
      "18937\n",
      "18766\n",
      "20057\n",
      "21103\n",
      "20481\n",
      "20343\n",
      "20227\n",
      "20124\n",
      "19871\n",
      "19530\n",
      "18651\n",
      "18097\n",
      "17818\n",
      "18084\n",
      "18215\n",
      "18775\n",
      "19090\n",
      "19795\n",
      "19373\n",
      "18670\n",
      "18048\n",
      "18729\n",
      "18930\n",
      "18997\n",
      "19044\n",
      "19021\n",
      "19048\n",
      "19260\n",
      "19588\n",
      "20775\n",
      "21097\n",
      "21045\n",
      "21537\n",
      "21283\n",
      "22318\n",
      "22263\n",
      "23361\n",
      "24436\n",
      "25437\n",
      "25354\n",
      "24447\n",
      "24368\n",
      "23722\n",
      "22878\n",
      "23579\n",
      "23809\n",
      "22724\n",
      "23174\n",
      "22835\n",
      "23070\n",
      "22465\n",
      "22856\n",
      "24406\n",
      "24085\n",
      "23938\n",
      "25435\n",
      "25554\n",
      "25858\n",
      "26312\n",
      "25756\n",
      "25841\n",
      "25990\n",
      "26098\n",
      "25995\n",
      "25775\n",
      "26617\n",
      "26407\n",
      "26005\n",
      "25774\n",
      "25521\n",
      "25971\n",
      "26763\n",
      "27204\n",
      "26150\n",
      "25876\n",
      "26784\n",
      "26826\n",
      "26911\n",
      "27395\n",
      "27335\n",
      "27054\n",
      "26399\n",
      "26860\n",
      "24980\n",
      "24898\n",
      "24810\n",
      "23627\n",
      "22854\n",
      "22974\n",
      "22510\n",
      "22013\n",
      "21682\n",
      "21205\n",
      "21888\n",
      "22068\n",
      "21062\n",
      "22068\n",
      "21310\n",
      "20448\n",
      "21073\n",
      "21005\n",
      "20403\n",
      "19910\n",
      "20084\n",
      "19981\n",
      "20418\n",
      "20785\n",
      "21181\n",
      "21328\n",
      "20684\n",
      "20295\n",
      "19960\n",
      "19695\n",
      "21016\n",
      "21418\n",
      "21945\n",
      "21514\n",
      "20079\n",
      "18584\n",
      "19183\n",
      "19471\n",
      "18452\n",
      "18933\n",
      "19175\n",
      "19651\n",
      "20568\n",
      "20473\n",
      "20139\n",
      "19143\n",
      "18801\n",
      "18590\n",
      "19828\n",
      "19354\n",
      "19327\n",
      "20047\n",
      "19291\n",
      "17857\n",
      "17421\n",
      "16709\n",
      "16517\n",
      "17137\n",
      "18373\n",
      "18178\n",
      "18191\n",
      "17542\n",
      "18133\n",
      "18167\n",
      "18716\n",
      "19965\n",
      "19290\n",
      "19323\n",
      "19061\n",
      "18213\n",
      "17859\n",
      "19070\n",
      "18417\n",
      "18144\n",
      "17689\n",
      "18095\n",
      "19316\n",
      "19570\n",
      "18779\n",
      "18619\n",
      "19280\n",
      "20558\n",
      "20588\n",
      "19327\n",
      "18369\n",
      "19614\n",
      "20738\n",
      "21064\n",
      "20881\n",
      "20520\n",
      "19393\n",
      "19279\n",
      "18673\n",
      "18734\n",
      "18656\n",
      "18078\n",
      "18672\n",
      "19607\n",
      "21171\n",
      "21622\n",
      "21285\n",
      "21982\n",
      "20458\n",
      "19717\n",
      "20139\n",
      "20626\n",
      "21854\n",
      "22937\n",
      "22106\n",
      "22775\n",
      "23327\n",
      "24581\n",
      "23949\n",
      "23789\n",
      "23566\n",
      "23598\n",
      "22708\n",
      "23492\n",
      "23326\n",
      "23057\n",
      "23174\n",
      "21291\n",
      "20352\n",
      "20739\n",
      "21201\n",
      "21602\n",
      "21350\n",
      "20848\n"
     ]
    }
   ],
   "source": [
    "infile = data\n",
    "months_data = infile.time.dt.month\n",
    "days_data = infile.time.dt.day\n",
    "\n",
    "of = cdo_ydrunpctl\n",
    "\n",
    "time_of = of.time\n",
    "months_of = of.time.dt.month\n",
    "days_of = of.time.dt.day\n",
    "\n",
    "tuples = []\n",
    "for of_step in time_of:\n",
    "    tuples.append((of_step.dt.month.values, of_step.dt.day.values))\n",
    "\n",
    "infile[\"mask\"] = (infile.t2m * 0).astype(bool)\n",
    "for step in tuples:\n",
    "    mask_data = ((step[0] == months_data) & (step[1] == days_data))\n",
    "    mask_of = ((step[0] == months_of) & (step[1] == days_of))\n",
    "\n",
    "    mask = infile.t2m.sel(time = mask_data) >= of.t2m.sel(time = mask_of).values\n",
    "#     infile[\"mask\"][mask_data] = infile[\"mask\"][mask_data]  + mask.values\n",
    "    print(mask.sum().values)"
   ]
  },
  {
   "cell_type": "code",
   "execution_count": 35,
   "metadata": {},
   "outputs": [
    {
     "data": {
      "text/plain": [
       "<matplotlib.collections.QuadMesh at 0x7f98f4cec3d0>"
      ]
     },
     "execution_count": 35,
     "metadata": {},
     "output_type": "execute_result"
    },
    {
     "data": {
      "image/png": "[encoded data removed]",
      "text/plain": [
       "<Figure size 432x288 with 2 Axes>"
      ]
     },
     "metadata": {
      "needs_background": "light"
     },
     "output_type": "display_data"
    },
    {
     "data": {
      "image/png": "[encoded data removed]",
      "text/plain": [
       "<Figure size 432x288 with 2 Axes>"
      ]
     },
     "metadata": {
      "needs_background": "light"
     },
     "output_type": "display_data"
    }
   ],
   "source": [
    "import matplotlib.pyplot as plt\n",
    "infile.t2m.sel(time = mask_data).max(\"time\").plot()\n",
    "plt.figure()\n",
    "of.t2m.sel(time = mask_of).plot()"
   ]
  },
  {
   "cell_type": "code",
   "execution_count": 166,
   "metadata": {},
   "outputs": [
    {
     "data": {
      "text/plain": [
       "array(['1900-01-01T00:00:00.000000000', '1900-01-01T06:00:00.000000000',\n",
       "       '1900-01-01T12:00:00.000000000', ...,\n",
       "       '1930-12-31T06:00:00.000000000', '1930-12-31T12:00:00.000000000',\n",
       "       '1930-12-31T18:00:00.000000000'], dtype='datetime64[ns]')"
      ]
     },
     "execution_count": 166,
     "metadata": {},
     "output_type": "execute_result"
    }
   ],
   "source": [
    "infile.time.values"
   ]
  },
  {
   "cell_type": "code",
   "execution_count": 171,
   "metadata": {},
   "outputs": [
    {
     "ename": "SyntaxError",
     "evalue": "positional argument follows keyword argument (<ipython-input-171-cc6d71c40fcf>, line 3)",
     "output_type": "error",
     "traceback": [
      "\u001b[0;36m  File \u001b[0;32m\"<ipython-input-171-cc6d71c40fcf>\"\u001b[0;36m, line \u001b[0;32m3\u001b[0m\n\u001b[0;31m    cdo.ydrunpctl(90,30, -ydrunmin, input = ip, -ydrunmax, input = ip, output = '/home/nniebaum/data_nils/perct.nc')\u001b[0m\n\u001b[0m                                               ^\u001b[0m\n\u001b[0;31mSyntaxError\u001b[0m\u001b[0;31m:\u001b[0m positional argument follows keyword argument\n"
     ]
    }
   ],
   "source": [
    "ip = '/home/nniebaum/data_nils/europe_all_1980-01-01_2010-12-31.nc'\n"
   ]
  },
  {
   "cell_type": "code",
   "execution_count": 162,
   "metadata": {},
   "outputs": [],
   "source": [
    "std = xr.open_dataset('/home/nniebaum/data_nils/firststd.nc')\n",
    "\n",
    "mean = xr.open_dataset('/home/nniebaum/data_nils/firstmean.nc')"
   ]
  },
  {
   "cell_type": "code",
   "execution_count": 129,
   "metadata": {},
   "outputs": [
    {
     "data": {
      "text/plain": [
       "[<matplotlib.lines.Line2D at 0x7fb2a83ee1d0>]"
      ]
     },
     "execution_count": 129,
     "metadata": {},
     "output_type": "execute_result"
    },
    {
     "data": {
      "image/png": "[encoded data removed]",
      "text/plain": [
       "<Figure size 432x288 with 1 Axes>"
      ]
     },
     "metadata": {
      "needs_background": "light"
     },
     "output_type": "display_data"
    }
   ],
   "source": [
    "std.t2m.isel(longitude = 10, latitude = 10 ).plot()"
   ]
  },
  {
   "cell_type": "code",
   "execution_count": 131,
   "metadata": {},
   "outputs": [
    {
     "data": {
      "text/plain": [
       "[<matplotlib.lines.Line2D at 0x7fb2a82e1a50>]"
      ]
     },
     "execution_count": 131,
     "metadata": {},
     "output_type": "execute_result"
    },
    {
     "data": {
      "image/png": "[encoded data removed]",
      "text/plain": [
       "<Figure size 432x288 with 1 Axes>"
      ]
     },
     "metadata": {
      "needs_background": "light"
     },
     "output_type": "display_data"
    }
   ],
   "source": [
    "(mean + 2*std).t2m.isel(longitude = 10, latitude = 10 ).plot()"
   ]
  }
 ],
 "metadata": {
  "kernelspec": {
   "display_name": "py3_std",
   "language": "python",
   "name": "py3_std"
  },
  "language_info": {
   "codemirror_mode": {
    "name": "ipython",
    "version": 3
   },
   "file_extension": ".py",
   "mimetype": "text/x-python",
   "name": "python",
   "nbconvert_exporter": "python",
   "pygments_lexer": "ipython3",
   "version": "3.7.9"
  }
 },
 "nbformat": 4,
 "nbformat_minor": 4
}
